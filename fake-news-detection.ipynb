{
 "cells": [
  {
   "cell_type": "code",
   "execution_count": 8,
   "metadata": {
    "execution": {
     "iopub.execute_input": "2022-08-03T06:42:25.685105Z",
     "iopub.status.busy": "2022-08-03T06:42:25.684227Z",
     "iopub.status.idle": "2022-08-03T06:42:25.692381Z",
     "shell.execute_reply": "2022-08-03T06:42:25.691048Z",
     "shell.execute_reply.started": "2022-08-03T06:42:25.685037Z"
    }
   },
   "outputs": [],
   "source": [
    "import pandas as pd\n",
    "import numpy as np\n",
    "import re\n",
    "import string\n",
    "from sklearn.feature_extraction.text import CountVectorizer\n",
    "from sklearn.feature_extraction.text import TfidfVectorizer\n",
    "from sklearn.model_selection import train_test_split\n",
    "from sklearn.naive_bayes import MultinomialNB\n",
    "from sklearn.metrics import confusion_matrix\n",
    "from sklearn.metrics import classification_report\n",
    "from sklearn.metrics import accuracy_score\n",
    "from sklearn.linear_model import LogisticRegression\n",
    "\n"
   ]
  },
  {
   "cell_type": "markdown",
   "metadata": {},
   "source": [
    "**Importing DataSets**"
   ]
  },
  {
   "cell_type": "code",
   "execution_count": 9,
   "metadata": {
    "execution": {
     "iopub.execute_input": "2022-08-03T06:42:25.698470Z",
     "iopub.status.busy": "2022-08-03T06:42:25.697660Z",
     "iopub.status.idle": "2022-08-03T06:42:27.032656Z",
     "shell.execute_reply": "2022-08-03T06:42:27.031355Z",
     "shell.execute_reply.started": "2022-08-03T06:42:25.698426Z"
    }
   },
   "outputs": [],
   "source": [
    "fake = pd.read_csv(r\"Fake.csv\")\n",
    "true = pd.read_csv(r\"True.csv\")"
   ]
  },
  {
   "cell_type": "code",
   "execution_count": 10,
   "metadata": {
    "execution": {
     "iopub.execute_input": "2022-08-03T06:42:27.035060Z",
     "iopub.status.busy": "2022-08-03T06:42:27.034713Z",
     "iopub.status.idle": "2022-08-03T06:42:27.042291Z",
     "shell.execute_reply": "2022-08-03T06:42:27.041043Z",
     "shell.execute_reply.started": "2022-08-03T06:42:27.035029Z"
    }
   },
   "outputs": [],
   "source": [
    "fake['class'] = 0\n",
    "true['class'] = 1\n"
   ]
  },
  {
   "cell_type": "code",
   "execution_count": 11,
   "metadata": {
    "execution": {
     "iopub.execute_input": "2022-08-03T06:42:27.043981Z",
     "iopub.status.busy": "2022-08-03T06:42:27.043625Z",
     "iopub.status.idle": "2022-08-03T06:42:27.053384Z",
     "shell.execute_reply": "2022-08-03T06:42:27.052517Z",
     "shell.execute_reply.started": "2022-08-03T06:42:27.043949Z"
    }
   },
   "outputs": [
    {
     "name": "stdout",
     "output_type": "stream",
     "text": [
      "(23481, 5) (21417, 5)\n"
     ]
    }
   ],
   "source": [
    "print(fake.shape,true.shape)"
   ]
  },
  {
   "cell_type": "code",
   "execution_count": 12,
   "metadata": {
    "execution": {
     "iopub.execute_input": "2022-08-03T06:42:27.058125Z",
     "iopub.status.busy": "2022-08-03T06:42:27.055677Z",
     "iopub.status.idle": "2022-08-03T06:42:27.091030Z",
     "shell.execute_reply": "2022-08-03T06:42:27.090103Z",
     "shell.execute_reply.started": "2022-08-03T06:42:27.058056Z"
    }
   },
   "outputs": [
    {
     "data": {
      "text/plain": [
       "(44898, 5)"
      ]
     },
     "execution_count": 12,
     "metadata": {},
     "output_type": "execute_result"
    }
   ],
   "source": [
    "df_merge = pd.concat([fake,true],axis=0)\n",
    "df_merge.shape"
   ]
  },
  {
   "cell_type": "code",
   "execution_count": 13,
   "metadata": {
    "execution": {
     "iopub.execute_input": "2022-08-03T06:42:27.092889Z",
     "iopub.status.busy": "2022-08-03T06:42:27.092208Z",
     "iopub.status.idle": "2022-08-03T06:42:27.103053Z",
     "shell.execute_reply": "2022-08-03T06:42:27.101748Z",
     "shell.execute_reply.started": "2022-08-03T06:42:27.092853Z"
    }
   },
   "outputs": [
    {
     "name": "stdout",
     "output_type": "stream",
     "text": [
      "Index(['title', 'text', 'subject', 'date', 'class'], dtype='object')\n"
     ]
    }
   ],
   "source": [
    "print(df_merge.columns)\n",
    "df = df_merge.drop(['title','subject','date'],axis=1)"
   ]
  },
  {
   "cell_type": "markdown",
   "metadata": {},
   "source": [
    "**Sampling** "
   ]
  },
  {
   "cell_type": "code",
   "execution_count": 14,
   "metadata": {
    "execution": {
     "iopub.execute_input": "2022-08-03T06:42:27.105671Z",
     "iopub.status.busy": "2022-08-03T06:42:27.105117Z",
     "iopub.status.idle": "2022-08-03T06:42:27.120020Z",
     "shell.execute_reply": "2022-08-03T06:42:27.118847Z",
     "shell.execute_reply.started": "2022-08-03T06:42:27.105633Z"
    }
   },
   "outputs": [],
   "source": [
    "df = df.sample(frac=1)"
   ]
  },
  {
   "cell_type": "code",
   "execution_count": 15,
   "metadata": {
    "execution": {
     "iopub.execute_input": "2022-08-03T06:42:27.122457Z",
     "iopub.status.busy": "2022-08-03T06:42:27.121479Z",
     "iopub.status.idle": "2022-08-03T06:42:27.142360Z",
     "shell.execute_reply": "2022-08-03T06:42:27.141266Z",
     "shell.execute_reply.started": "2022-08-03T06:42:27.122421Z"
    }
   },
   "outputs": [
    {
     "data": {
      "text/html": [
       "<div>\n",
       "<style scoped>\n",
       "    .dataframe tbody tr th:only-of-type {\n",
       "        vertical-align: middle;\n",
       "    }\n",
       "\n",
       "    .dataframe tbody tr th {\n",
       "        vertical-align: top;\n",
       "    }\n",
       "\n",
       "    .dataframe thead th {\n",
       "        text-align: right;\n",
       "    }\n",
       "</style>\n",
       "<table border=\"1\" class=\"dataframe\">\n",
       "  <thead>\n",
       "    <tr style=\"text-align: right;\">\n",
       "      <th></th>\n",
       "      <th>text</th>\n",
       "      <th>class</th>\n",
       "    </tr>\n",
       "  </thead>\n",
       "  <tbody>\n",
       "    <tr>\n",
       "      <th>0</th>\n",
       "      <td>NEW YORK (Reuters) - New York City Mayor Bill ...</td>\n",
       "      <td>1</td>\n",
       "    </tr>\n",
       "    <tr>\n",
       "      <th>1</th>\n",
       "      <td>Dr. Gina Loudon went on CNN today to discuss t...</td>\n",
       "      <td>0</td>\n",
       "    </tr>\n",
       "    <tr>\n",
       "      <th>2</th>\n",
       "      <td>SKOPJE (Reuters) - A Macedonian court sentence...</td>\n",
       "      <td>1</td>\n",
       "    </tr>\n",
       "    <tr>\n",
       "      <th>3</th>\n",
       "      <td>ASPEN, Colo. (Reuters) - National Security Age...</td>\n",
       "      <td>1</td>\n",
       "    </tr>\n",
       "    <tr>\n",
       "      <th>4</th>\n",
       "      <td>Donald Trump s executive order barring people ...</td>\n",
       "      <td>0</td>\n",
       "    </tr>\n",
       "  </tbody>\n",
       "</table>\n",
       "</div>"
      ],
      "text/plain": [
       "                                                text  class\n",
       "0  NEW YORK (Reuters) - New York City Mayor Bill ...      1\n",
       "1  Dr. Gina Loudon went on CNN today to discuss t...      0\n",
       "2  SKOPJE (Reuters) - A Macedonian court sentence...      1\n",
       "3  ASPEN, Colo. (Reuters) - National Security Age...      1\n",
       "4  Donald Trump s executive order barring people ...      0"
      ]
     },
     "execution_count": 15,
     "metadata": {},
     "output_type": "execute_result"
    }
   ],
   "source": [
    "df.reset_index(inplace = True)\n",
    "df.drop(['index'],axis=1,inplace = True)\n",
    "df.head()"
   ]
  },
  {
   "cell_type": "markdown",
   "metadata": {},
   "source": [
    "**Missing Values**"
   ]
  },
  {
   "cell_type": "code",
   "execution_count": 16,
   "metadata": {
    "execution": {
     "iopub.execute_input": "2022-08-03T06:42:27.144410Z",
     "iopub.status.busy": "2022-08-03T06:42:27.143538Z",
     "iopub.status.idle": "2022-08-03T06:42:27.163428Z",
     "shell.execute_reply": "2022-08-03T06:42:27.162397Z",
     "shell.execute_reply.started": "2022-08-03T06:42:27.144372Z"
    }
   },
   "outputs": [
    {
     "data": {
      "text/plain": [
       "text     0\n",
       "class    0\n",
       "dtype: int64"
      ]
     },
     "execution_count": 16,
     "metadata": {},
     "output_type": "execute_result"
    }
   ],
   "source": [
    "df.isna().sum()"
   ]
  },
  {
   "cell_type": "markdown",
   "metadata": {},
   "source": [
    "**Text Preprocessing**"
   ]
  },
  {
   "cell_type": "markdown",
   "metadata": {},
   "source": [
    "* converting words into lowercase"
   ]
  },
  {
   "cell_type": "code",
   "execution_count": 17,
   "metadata": {
    "execution": {
     "iopub.execute_input": "2022-08-03T06:42:27.165265Z",
     "iopub.status.busy": "2022-08-03T06:42:27.164562Z",
     "iopub.status.idle": "2022-08-03T06:42:27.392522Z",
     "shell.execute_reply": "2022-08-03T06:42:27.391277Z",
     "shell.execute_reply.started": "2022-08-03T06:42:27.165224Z"
    }
   },
   "outputs": [],
   "source": [
    "df['text'] = df['text'].str.lower()"
   ]
  },
  {
   "cell_type": "markdown",
   "metadata": {},
   "source": []
  },
  {
   "cell_type": "markdown",
   "metadata": {},
   "source": [
    "* removing leading and trailing whitespaces"
   ]
  },
  {
   "cell_type": "code",
   "execution_count": 18,
   "metadata": {
    "execution": {
     "iopub.execute_input": "2022-08-03T06:42:27.396606Z",
     "iopub.status.busy": "2022-08-03T06:42:27.396209Z",
     "iopub.status.idle": "2022-08-03T06:42:27.533597Z",
     "shell.execute_reply": "2022-08-03T06:42:27.532359Z",
     "shell.execute_reply.started": "2022-08-03T06:42:27.396568Z"
    }
   },
   "outputs": [],
   "source": [
    "df['text'] = df['text'].str.strip()"
   ]
  },
  {
   "cell_type": "markdown",
   "metadata": {},
   "source": [
    "* removing puctuations"
   ]
  },
  {
   "cell_type": "code",
   "execution_count": 19,
   "metadata": {
    "execution": {
     "iopub.execute_input": "2022-08-03T06:42:27.537112Z",
     "iopub.status.busy": "2022-08-03T06:42:27.536663Z",
     "iopub.status.idle": "2022-08-03T06:42:33.431931Z",
     "shell.execute_reply": "2022-08-03T06:42:33.430943Z",
     "shell.execute_reply.started": "2022-08-03T06:42:27.537049Z"
    }
   },
   "outputs": [
    {
     "name": "stderr",
     "output_type": "stream",
     "text": [
      "C:\\Users\\Shams\\AppData\\Local\\Temp/ipykernel_13528/3800430821.py:1: FutureWarning: The default value of regex will change from True to False in a future version.\n",
      "  df['text'] = df['text'].str.replace('[^a-zA-Z]',' ')\n"
     ]
    }
   ],
   "source": [
    "df['text'] = df['text'].str.replace('[^a-zA-Z]',' ')"
   ]
  },
  {
   "cell_type": "markdown",
   "metadata": {},
   "source": [
    "**Defining dependent and independent variables**"
   ]
  },
  {
   "cell_type": "code",
   "execution_count": 20,
   "metadata": {
    "execution": {
     "iopub.execute_input": "2022-08-03T06:42:33.435136Z",
     "iopub.status.busy": "2022-08-03T06:42:33.434537Z",
     "iopub.status.idle": "2022-08-03T06:42:33.441927Z",
     "shell.execute_reply": "2022-08-03T06:42:33.440833Z",
     "shell.execute_reply.started": "2022-08-03T06:42:33.435100Z"
    }
   },
   "outputs": [],
   "source": [
    "X = df['text']\n",
    "y = df['class']"
   ]
  },
  {
   "cell_type": "markdown",
   "metadata": {},
   "source": [
    "**Splitting Training and Testing**"
   ]
  },
  {
   "cell_type": "code",
   "execution_count": 21,
   "metadata": {
    "execution": {
     "iopub.execute_input": "2022-08-03T06:42:33.443712Z",
     "iopub.status.busy": "2022-08-03T06:42:33.443361Z",
     "iopub.status.idle": "2022-08-03T06:42:33.468536Z",
     "shell.execute_reply": "2022-08-03T06:42:33.467313Z",
     "shell.execute_reply.started": "2022-08-03T06:42:33.443681Z"
    }
   },
   "outputs": [],
   "source": [
    "from sklearn.model_selection import train_test_split\n",
    "X_train, X_test, y_train, y_test = train_test_split(X,y,test_size = 0.25,random_state =42)"
   ]
  },
  {
   "cell_type": "markdown",
   "metadata": {},
   "source": [
    "**Convert text to vectors** \n",
    "* CountVectorizer"
   ]
  },
  {
   "cell_type": "code",
   "execution_count": 22,
   "metadata": {
    "execution": {
     "iopub.execute_input": "2022-08-03T06:42:33.470896Z",
     "iopub.status.busy": "2022-08-03T06:42:33.470212Z",
     "iopub.status.idle": "2022-08-03T06:42:47.233714Z",
     "shell.execute_reply": "2022-08-03T06:42:47.232307Z",
     "shell.execute_reply.started": "2022-08-03T06:42:33.470856Z"
    }
   },
   "outputs": [
    {
     "name": "stdout",
     "output_type": "stream",
     "text": [
      "['aa' 'aaa' 'aaaaaaaand' 'aaaaapkfhk' 'aaaahhhh' 'aaaand' 'aaab' 'aab'\n",
      " 'aabfsv' 'aabge']\n"
     ]
    }
   ],
   "source": [
    "cv = CountVectorizer(stop_words='english')\n",
    "count_train= cv.fit_transform(X_train)\n",
    "count_test = cv.transform(X_test)\n",
    "print(cv.get_feature_names_out()[:10])"
   ]
  },
  {
   "cell_type": "markdown",
   "metadata": {},
   "source": [
    "**Convert text to vectors** \n",
    "* TfidfVectorizer"
   ]
  },
  {
   "cell_type": "code",
   "execution_count": 23,
   "metadata": {
    "execution": {
     "iopub.execute_input": "2022-08-03T06:42:47.235631Z",
     "iopub.status.busy": "2022-08-03T06:42:47.235170Z",
     "iopub.status.idle": "2022-08-03T06:43:01.389302Z",
     "shell.execute_reply": "2022-08-03T06:43:01.388106Z",
     "shell.execute_reply.started": "2022-08-03T06:42:47.235596Z"
    }
   },
   "outputs": [
    {
     "name": "stdout",
     "output_type": "stream",
     "text": [
      "['aa' 'aaa' 'aaaaaaaand' 'aaaaapkfhk' 'aaaahhhh' 'aaaand' 'aaab' 'aab'\n",
      " 'aabfsv' 'aabge']\n"
     ]
    }
   ],
   "source": [
    "tv = TfidfVectorizer(stop_words='english',max_df = 0.9)\n",
    "tfidf_train= tv.fit_transform(X_train)\n",
    "tfidf_test = tv.transform(X_test)\n",
    "print(tv.get_feature_names_out()[:10])"
   ]
  },
  {
   "cell_type": "markdown",
   "metadata": {},
   "source": [
    "**Multinomial Naive Bayes classifier**"
   ]
  },
  {
   "cell_type": "code",
   "execution_count": 24,
   "metadata": {
    "execution": {
     "iopub.execute_input": "2022-08-03T06:43:01.391472Z",
     "iopub.status.busy": "2022-08-03T06:43:01.391099Z",
     "iopub.status.idle": "2022-08-03T06:43:01.467818Z",
     "shell.execute_reply": "2022-08-03T06:43:01.466631Z",
     "shell.execute_reply.started": "2022-08-03T06:43:01.391437Z"
    }
   },
   "outputs": [
    {
     "name": "stdout",
     "output_type": "stream",
     "text": [
      "[[5530  301]\n",
      " [ 246 5148]]\n",
      "0.9512694877505568\n"
     ]
    }
   ],
   "source": [
    "nb_classifier = MultinomialNB()\n",
    "nb_classifier.fit(count_train,y_train)\n",
    "y_pred = nb_classifier.predict(count_test)\n",
    "print(confusion_matrix(y_test,y_pred))\n",
    "\n",
    "print(accuracy_score(y_test,y_pred))\n"
   ]
  },
  {
   "cell_type": "code",
   "execution_count": 25,
   "metadata": {
    "execution": {
     "iopub.execute_input": "2022-08-03T06:43:01.469783Z",
     "iopub.status.busy": "2022-08-03T06:43:01.469417Z",
     "iopub.status.idle": "2022-08-03T06:43:01.548372Z",
     "shell.execute_reply": "2022-08-03T06:43:01.546880Z",
     "shell.execute_reply.started": "2022-08-03T06:43:01.469750Z"
    }
   },
   "outputs": [
    {
     "name": "stdout",
     "output_type": "stream",
     "text": [
      "[[5479  352]\n",
      " [ 348 5046]]\n",
      "0.9376391982182628\n"
     ]
    }
   ],
   "source": [
    "nb_classifier = MultinomialNB()\n",
    "nb_classifier.fit(tfidf_train,y_train)\n",
    "y_pred_td = nb_classifier.predict(tfidf_test)\n",
    "print(confusion_matrix(y_test,y_pred_td))\n",
    "\n",
    "print(accuracy_score(y_test,y_pred_td))"
   ]
  },
  {
   "cell_type": "markdown",
   "metadata": {},
   "source": [
    "**LogisticRegression**"
   ]
  },
  {
   "cell_type": "code",
   "execution_count": 26,
   "metadata": {
    "execution": {
     "iopub.execute_input": "2022-08-03T06:43:01.551031Z",
     "iopub.status.busy": "2022-08-03T06:43:01.550370Z",
     "iopub.status.idle": "2022-08-03T06:43:14.345719Z",
     "shell.execute_reply": "2022-08-03T06:43:14.344489Z",
     "shell.execute_reply.started": "2022-08-03T06:43:01.550982Z"
    }
   },
   "outputs": [
    {
     "name": "stdout",
     "output_type": "stream",
     "text": [
      "[[5802   29]\n",
      " [  23 5371]]\n",
      "0.9953674832962138\n"
     ]
    },
    {
     "name": "stderr",
     "output_type": "stream",
     "text": [
      "C:\\Users\\Shams\\anaconda3\\lib\\site-packages\\sklearn\\linear_model\\_logistic.py:444: ConvergenceWarning: lbfgs failed to converge (status=1):\n",
      "STOP: TOTAL NO. of ITERATIONS REACHED LIMIT.\n",
      "\n",
      "Increase the number of iterations (max_iter) or scale the data as shown in:\n",
      "    https://scikit-learn.org/stable/modules/preprocessing.html\n",
      "Please also refer to the documentation for alternative solver options:\n",
      "    https://scikit-learn.org/stable/modules/linear_model.html#logistic-regression\n",
      "  n_iter_i = _check_optimize_result(\n"
     ]
    }
   ],
   "source": [
    "lr_classifier = LogisticRegression()\n",
    "lr_classifier.fit(count_train,y_train)\n",
    "y_pred = lr_classifier.predict(count_test)\n",
    "print(confusion_matrix(y_test,y_pred))\n",
    "\n",
    "print(accuracy_score(y_test,y_pred))\n"
   ]
  },
  {
   "cell_type": "code",
   "execution_count": 27,
   "metadata": {
    "execution": {
     "iopub.execute_input": "2022-08-03T06:43:14.348513Z",
     "iopub.status.busy": "2022-08-03T06:43:14.347680Z",
     "iopub.status.idle": "2022-08-03T06:43:17.981939Z",
     "shell.execute_reply": "2022-08-03T06:43:17.978720Z",
     "shell.execute_reply.started": "2022-08-03T06:43:14.348462Z"
    }
   },
   "outputs": [
    {
     "name": "stdout",
     "output_type": "stream",
     "text": [
      "[[5730  101]\n",
      " [  52 5342]]\n",
      "0.986369710467706\n"
     ]
    }
   ],
   "source": [
    "lr_classifier = LogisticRegression()\n",
    "lr_classifier.fit(tfidf_train,y_train)\n",
    "y_pred = lr_classifier.predict(tfidf_test)\n",
    "print(confusion_matrix(y_test,y_pred))\n",
    "\n",
    "print(accuracy_score(y_test,y_pred))\n"
   ]
  },
  {
   "cell_type": "code",
   "execution_count": null,
   "metadata": {},
   "outputs": [],
   "source": []
  }
 ],
 "metadata": {
  "kernelspec": {
   "display_name": "Python 3 (ipykernel)",
   "language": "python",
   "name": "python3"
  },
  "language_info": {
   "codemirror_mode": {
    "name": "ipython",
    "version": 3
   },
   "file_extension": ".py",
   "mimetype": "text/x-python",
   "name": "python",
   "nbconvert_exporter": "python",
   "pygments_lexer": "ipython3",
   "version": "3.9.7"
  }
 },
 "nbformat": 4,
 "nbformat_minor": 4
}
