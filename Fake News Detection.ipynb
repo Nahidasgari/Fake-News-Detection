{
 "cells": [
  {
   "cell_type": "code",
   "execution_count": 1,
   "metadata": {
    "execution": {
     "iopub.execute_input": "2022-08-03T02:59:23.527735Z",
     "iopub.status.busy": "2022-08-03T02:59:23.527012Z",
     "iopub.status.idle": "2022-08-03T02:59:24.175939Z",
     "shell.execute_reply": "2022-08-03T02:59:24.174710Z",
     "shell.execute_reply.started": "2022-08-03T02:59:23.527690Z"
    }
   },
   "outputs": [],
   "source": [
    "import pandas as pd\n",
    "import numpy as np\n",
    "import re\n",
    "import string\n",
    "from sklearn.feature_extraction.text import CountVectorizer\n",
    "from sklearn.feature_extraction.text import TfidfVectorizer\n",
    "from sklearn.model_selection import train_test_split\n",
    "from sklearn.naive_bayes import MultinomialNB\n",
    "from sklearn.metrics import confusion_matrix\n",
    "from sklearn.metrics import classification_report\n",
    "from sklearn.metrics import accuracy_score\n",
    "from sklearn.linear_model import LogisticRegression as lr"
   ]
  },
  {
   "cell_type": "markdown",
   "metadata": {},
   "source": [
    "**Importing DataSets**"
   ]
  },
  {
   "cell_type": "code",
   "execution_count": 36,
   "metadata": {
    "execution": {
     "iopub.execute_input": "2022-08-03T02:59:26.486151Z",
     "iopub.status.busy": "2022-08-03T02:59:26.485601Z",
     "iopub.status.idle": "2022-08-03T02:59:29.448416Z",
     "shell.execute_reply": "2022-08-03T02:59:29.447164Z",
     "shell.execute_reply.started": "2022-08-03T02:59:26.486114Z"
    }
   },
   "outputs": [],
   "source": [
    "fake = pd.read_csv(\"Fake (1).csv\")\n",
    "true = pd.read_csv(\"True (1).csv\")"
   ]
  },
  {
   "cell_type": "code",
   "execution_count": 37,
   "metadata": {
    "execution": {
     "iopub.execute_input": "2022-08-03T02:59:29.451123Z",
     "iopub.status.busy": "2022-08-03T02:59:29.450733Z",
     "iopub.status.idle": "2022-08-03T02:59:29.467084Z",
     "shell.execute_reply": "2022-08-03T02:59:29.465544Z",
     "shell.execute_reply.started": "2022-08-03T02:59:29.451089Z"
    }
   },
   "outputs": [],
   "source": [
    "fake['class'] = 0\n",
    "true['class'] = 1"
   ]
  },
  {
   "cell_type": "code",
   "execution_count": 38,
   "metadata": {
    "execution": {
     "iopub.execute_input": "2022-08-03T02:59:30.956478Z",
     "iopub.status.busy": "2022-08-03T02:59:30.956020Z",
     "iopub.status.idle": "2022-08-03T02:59:30.963908Z",
     "shell.execute_reply": "2022-08-03T02:59:30.962081Z",
     "shell.execute_reply.started": "2022-08-03T02:59:30.956441Z"
    }
   },
   "outputs": [
    {
     "name": "stdout",
     "output_type": "stream",
     "text": [
      "(23481, 5) (21417, 5)\n"
     ]
    }
   ],
   "source": [
    "print(fake.shape,true.shape)"
   ]
  },
  {
   "cell_type": "code",
   "execution_count": 39,
   "metadata": {
    "execution": {
     "iopub.execute_input": "2022-08-03T02:59:31.713628Z",
     "iopub.status.busy": "2022-08-03T02:59:31.712874Z",
     "iopub.status.idle": "2022-08-03T02:59:31.737488Z",
     "shell.execute_reply": "2022-08-03T02:59:31.736224Z",
     "shell.execute_reply.started": "2022-08-03T02:59:31.713586Z"
    }
   },
   "outputs": [
    {
     "data": {
      "text/plain": [
       "(44898, 5)"
      ]
     },
     "execution_count": 39,
     "metadata": {},
     "output_type": "execute_result"
    }
   ],
   "source": [
    "df_merge = pd.concat([fake,true],axis=0)\n",
    "df_merge.shape"
   ]
  },
  {
   "cell_type": "code",
   "execution_count": 40,
   "metadata": {
    "execution": {
     "iopub.execute_input": "2022-08-03T02:59:32.625100Z",
     "iopub.status.busy": "2022-08-03T02:59:32.624679Z",
     "iopub.status.idle": "2022-08-03T02:59:32.639625Z",
     "shell.execute_reply": "2022-08-03T02:59:32.638671Z",
     "shell.execute_reply.started": "2022-08-03T02:59:32.625067Z"
    }
   },
   "outputs": [
    {
     "name": "stdout",
     "output_type": "stream",
     "text": [
      "Index(['title', 'text', 'subject', 'date', 'class'], dtype='object')\n"
     ]
    }
   ],
   "source": [
    "print(df_merge.columns)\n",
    "df = df_merge.drop(['title','subject','date'],axis=1)"
   ]
  },
  {
   "cell_type": "markdown",
   "metadata": {},
   "source": [
    "**Sampling** "
   ]
  },
  {
   "cell_type": "code",
   "execution_count": 41,
   "metadata": {
    "execution": {
     "iopub.execute_input": "2022-08-03T02:59:34.434263Z",
     "iopub.status.busy": "2022-08-03T02:59:34.433485Z",
     "iopub.status.idle": "2022-08-03T02:59:34.455724Z",
     "shell.execute_reply": "2022-08-03T02:59:34.454190Z",
     "shell.execute_reply.started": "2022-08-03T02:59:34.434208Z"
    }
   },
   "outputs": [],
   "source": [
    "df = df.sample(frac=1)"
   ]
  },
  {
   "cell_type": "code",
   "execution_count": 42,
   "metadata": {
    "execution": {
     "iopub.execute_input": "2022-08-03T02:59:35.239301Z",
     "iopub.status.busy": "2022-08-03T02:59:35.238047Z",
     "iopub.status.idle": "2022-08-03T02:59:35.264337Z",
     "shell.execute_reply": "2022-08-03T02:59:35.263071Z",
     "shell.execute_reply.started": "2022-08-03T02:59:35.239210Z"
    }
   },
   "outputs": [
    {
     "data": {
      "text/html": [
       "<div>\n",
       "<style scoped>\n",
       "    .dataframe tbody tr th:only-of-type {\n",
       "        vertical-align: middle;\n",
       "    }\n",
       "\n",
       "    .dataframe tbody tr th {\n",
       "        vertical-align: top;\n",
       "    }\n",
       "\n",
       "    .dataframe thead th {\n",
       "        text-align: right;\n",
       "    }\n",
       "</style>\n",
       "<table border=\"1\" class=\"dataframe\">\n",
       "  <thead>\n",
       "    <tr style=\"text-align: right;\">\n",
       "      <th></th>\n",
       "      <th>text</th>\n",
       "      <th>class</th>\n",
       "    </tr>\n",
       "  </thead>\n",
       "  <tbody>\n",
       "    <tr>\n",
       "      <th>0</th>\n",
       "      <td>I think this is hope over reality longtime De...</td>\n",
       "      <td>0</td>\n",
       "    </tr>\n",
       "    <tr>\n",
       "      <th>1</th>\n",
       "      <td>Speaking at the National Council of La Raza co...</td>\n",
       "      <td>0</td>\n",
       "    </tr>\n",
       "    <tr>\n",
       "      <th>2</th>\n",
       "      <td>Trump made a bad decision, or so his ardent fo...</td>\n",
       "      <td>0</td>\n",
       "    </tr>\n",
       "    <tr>\n",
       "      <th>3</th>\n",
       "      <td>Like Megyn Kelly, who lost her supporters when...</td>\n",
       "      <td>0</td>\n",
       "    </tr>\n",
       "    <tr>\n",
       "      <th>4</th>\n",
       "      <td>Many people have raised the alarm regarding th...</td>\n",
       "      <td>0</td>\n",
       "    </tr>\n",
       "  </tbody>\n",
       "</table>\n",
       "</div>"
      ],
      "text/plain": [
       "                                                text  class\n",
       "0   I think this is hope over reality longtime De...      0\n",
       "1  Speaking at the National Council of La Raza co...      0\n",
       "2  Trump made a bad decision, or so his ardent fo...      0\n",
       "3  Like Megyn Kelly, who lost her supporters when...      0\n",
       "4  Many people have raised the alarm regarding th...      0"
      ]
     },
     "execution_count": 42,
     "metadata": {},
     "output_type": "execute_result"
    }
   ],
   "source": [
    "df.reset_index(inplace = True)\n",
    "df.drop(['index'],axis=1,inplace = True)\n",
    "df.head()"
   ]
  },
  {
   "cell_type": "markdown",
   "metadata": {},
   "source": [
    "**Missing Values**"
   ]
  },
  {
   "cell_type": "code",
   "execution_count": 43,
   "metadata": {
    "execution": {
     "iopub.execute_input": "2022-08-03T02:59:37.084437Z",
     "iopub.status.busy": "2022-08-03T02:59:37.082563Z",
     "iopub.status.idle": "2022-08-03T02:59:37.108304Z",
     "shell.execute_reply": "2022-08-03T02:59:37.107018Z",
     "shell.execute_reply.started": "2022-08-03T02:59:37.084373Z"
    }
   },
   "outputs": [
    {
     "data": {
      "text/plain": [
       "text     0\n",
       "class    0\n",
       "dtype: int64"
      ]
     },
     "execution_count": 43,
     "metadata": {},
     "output_type": "execute_result"
    }
   ],
   "source": [
    "df.isna().sum()"
   ]
  },
  {
   "cell_type": "markdown",
   "metadata": {},
   "source": [
    "**Text Preprocessing**"
   ]
  },
  {
   "cell_type": "markdown",
   "metadata": {},
   "source": [
    "* converting words into lowercase"
   ]
  },
  {
   "cell_type": "code",
   "execution_count": 44,
   "metadata": {
    "execution": {
     "iopub.execute_input": "2022-08-03T02:59:41.102261Z",
     "iopub.status.busy": "2022-08-03T02:59:41.101264Z",
     "iopub.status.idle": "2022-08-03T02:59:41.464802Z",
     "shell.execute_reply": "2022-08-03T02:59:41.463530Z",
     "shell.execute_reply.started": "2022-08-03T02:59:41.102195Z"
    }
   },
   "outputs": [],
   "source": [
    "df['text'] = df['text'].str.lower()"
   ]
  },
  {
   "cell_type": "markdown",
   "metadata": {},
   "source": [
    "* removing leading and trailing whitespaces"
   ]
  },
  {
   "cell_type": "code",
   "execution_count": 45,
   "metadata": {
    "execution": {
     "iopub.execute_input": "2022-08-03T02:59:42.809936Z",
     "iopub.status.busy": "2022-08-03T02:59:42.809499Z",
     "iopub.status.idle": "2022-08-03T02:59:42.964061Z",
     "shell.execute_reply": "2022-08-03T02:59:42.962459Z",
     "shell.execute_reply.started": "2022-08-03T02:59:42.809901Z"
    }
   },
   "outputs": [],
   "source": [
    "df['text'] = df['text'].str.strip()"
   ]
  },
  {
   "cell_type": "markdown",
   "metadata": {},
   "source": [
    "* removing puctuations"
   ]
  },
  {
   "cell_type": "code",
   "execution_count": 46,
   "metadata": {
    "execution": {
     "iopub.execute_input": "2022-08-03T02:59:44.537609Z",
     "iopub.status.busy": "2022-08-03T02:59:44.536992Z",
     "iopub.status.idle": "2022-08-03T02:59:50.474893Z",
     "shell.execute_reply": "2022-08-03T02:59:50.473527Z",
     "shell.execute_reply.started": "2022-08-03T02:59:44.537563Z"
    }
   },
   "outputs": [
    {
     "name": "stderr",
     "output_type": "stream",
     "text": [
      "C:\\Users\\Shams\\AppData\\Local\\Temp/ipykernel_14328/3800430821.py:1: FutureWarning: The default value of regex will change from True to False in a future version.\n",
      "  df['text'] = df['text'].str.replace('[^a-zA-Z]',' ')\n"
     ]
    }
   ],
   "source": [
    "df['text'] = df['text'].str.replace('[^a-zA-Z]',' ')"
   ]
  },
  {
   "cell_type": "markdown",
   "metadata": {},
   "source": [
    "* expanding contractions"
   ]
  },
  {
   "cell_type": "markdown",
   "metadata": {},
   "source": [
    "**Defining dependent and independent variables**"
   ]
  },
  {
   "cell_type": "code",
   "execution_count": 47,
   "metadata": {
    "execution": {
     "iopub.execute_input": "2022-08-03T03:00:28.716697Z",
     "iopub.status.busy": "2022-08-03T03:00:28.715996Z",
     "iopub.status.idle": "2022-08-03T03:00:28.726224Z",
     "shell.execute_reply": "2022-08-03T03:00:28.725128Z",
     "shell.execute_reply.started": "2022-08-03T03:00:28.716651Z"
    }
   },
   "outputs": [],
   "source": [
    "X = df['text']\n",
    "y = df['class']"
   ]
  },
  {
   "cell_type": "markdown",
   "metadata": {},
   "source": [
    "**Splitting Training and Testing**"
   ]
  },
  {
   "cell_type": "code",
   "execution_count": 48,
   "metadata": {
    "execution": {
     "iopub.execute_input": "2022-08-03T03:00:30.387635Z",
     "iopub.status.busy": "2022-08-03T03:00:30.386662Z",
     "iopub.status.idle": "2022-08-03T03:00:30.416620Z",
     "shell.execute_reply": "2022-08-03T03:00:30.415207Z",
     "shell.execute_reply.started": "2022-08-03T03:00:30.387587Z"
    }
   },
   "outputs": [],
   "source": [
    "from sklearn.model_selection import train_test_split\n",
    "X_train, X_test, y_train, y_test = train_test_split(X,y,test_size = 0.25,random_state =42)"
   ]
  },
  {
   "cell_type": "markdown",
   "metadata": {},
   "source": [
    "**Convert text to vectors** \n",
    "* CountVectorizer"
   ]
  },
  {
   "cell_type": "code",
   "execution_count": 49,
   "metadata": {
    "execution": {
     "iopub.execute_input": "2022-08-03T03:00:32.356317Z",
     "iopub.status.busy": "2022-08-03T03:00:32.355805Z",
     "iopub.status.idle": "2022-08-03T03:00:47.905623Z",
     "shell.execute_reply": "2022-08-03T03:00:47.904602Z",
     "shell.execute_reply.started": "2022-08-03T03:00:32.356256Z"
    }
   },
   "outputs": [
    {
     "name": "stdout",
     "output_type": "stream",
     "text": [
      "['aa' 'aaa' 'aaaaaaaand' 'aaaaackkk' 'aaaaapkfhk' 'aaaahhhh' 'aaaand'\n",
      " 'aaaarrgh' 'aab' 'aabfsv']\n"
     ]
    }
   ],
   "source": [
    "cv = CountVectorizer(stop_words='english')\n",
    "count_train= cv.fit_transform(X_train)\n",
    "count_test = cv.transform(X_test)\n",
    "print(cv.get_feature_names_out()[:10])"
   ]
  },
  {
   "cell_type": "markdown",
   "metadata": {},
   "source": [
    "**Convert text to vectors** \n",
    "* TfidfVectorizer"
   ]
  },
  {
   "cell_type": "code",
   "execution_count": 50,
   "metadata": {
    "execution": {
     "iopub.execute_input": "2022-08-03T03:00:50.653885Z",
     "iopub.status.busy": "2022-08-03T03:00:50.652473Z",
     "iopub.status.idle": "2022-08-03T03:01:05.214870Z",
     "shell.execute_reply": "2022-08-03T03:01:05.213557Z",
     "shell.execute_reply.started": "2022-08-03T03:00:50.653828Z"
    }
   },
   "outputs": [
    {
     "name": "stdout",
     "output_type": "stream",
     "text": [
      "['aa' 'aaa' 'aaaaaaaand' 'aaaaackkk' 'aaaaapkfhk' 'aaaahhhh' 'aaaand'\n",
      " 'aaaarrgh' 'aab' 'aabfsv']\n"
     ]
    }
   ],
   "source": [
    "tv = TfidfVectorizer(stop_words='english',max_df = 0.9)\n",
    "tfidf_train= tv.fit_transform(X_train)\n",
    "tfidf_test = tv.transform(X_test)\n",
    "print(tv.get_feature_names_out()[:10])"
   ]
  },
  {
   "cell_type": "markdown",
   "metadata": {},
   "source": [
    "**Create the CountVectorizer & TfidfVectorizer DataFrame**"
   ]
  },
  {
   "cell_type": "code",
   "execution_count": 51,
   "metadata": {
    "execution": {
     "iopub.execute_input": "2022-08-03T03:01:07.057146Z",
     "iopub.status.busy": "2022-08-03T03:01:07.056712Z",
     "iopub.status.idle": "2022-08-03T03:01:07.062854Z",
     "shell.execute_reply": "2022-08-03T03:01:07.061874Z",
     "shell.execute_reply.started": "2022-08-03T03:01:07.057111Z"
    }
   },
   "outputs": [],
   "source": [
    "#cv_df = pd.DataFrame(count_train.toarray(),columns = cv.get_feature_names_out())\n",
    "#tfidf_df = pd.DataFrame(tfidf_train.toarray(),columns = tv.get_feature_names_out())"
   ]
  },
  {
   "cell_type": "code",
   "execution_count": 52,
   "metadata": {
    "execution": {
     "iopub.execute_input": "2022-08-03T03:01:07.894190Z",
     "iopub.status.busy": "2022-08-03T03:01:07.892599Z",
     "iopub.status.idle": "2022-08-03T03:01:07.899197Z",
     "shell.execute_reply": "2022-08-03T03:01:07.897814Z",
     "shell.execute_reply.started": "2022-08-03T03:01:07.894144Z"
    }
   },
   "outputs": [],
   "source": [
    "#print(count_train.head(1))"
   ]
  },
  {
   "cell_type": "markdown",
   "metadata": {},
   "source": [
    "**Multinomial Naive Bayes classifier**"
   ]
  },
  {
   "cell_type": "code",
   "execution_count": 64,
   "metadata": {
    "execution": {
     "iopub.execute_input": "2022-08-03T03:01:09.663153Z",
     "iopub.status.busy": "2022-08-03T03:01:09.662563Z"
    }
   },
   "outputs": [
    {
     "name": "stdout",
     "output_type": "stream",
     "text": [
      "[[5592  298]\n",
      " [ 237 5098]]\n",
      "0.9523385300668151\n"
     ]
    }
   ],
   "source": [
    "nb_classifier = MultinomialNB()\n",
    "nb_classifier.fit(count_train,y_train)\n",
    "y_pred = nb_classifier.predict(count_test)\n",
    "print(confusion_matrix(y_test,y_pred))\n",
    "print(accuracy_score(y_test,y_pred))"
   ]
  },
  {
   "cell_type": "markdown",
   "metadata": {},
   "source": [
    "LogisticRegression"
   ]
  },
  {
   "cell_type": "code",
   "execution_count": 66,
   "metadata": {},
   "outputs": [
    {
     "name": "stdout",
     "output_type": "stream",
     "text": [
      "[[5865   25]\n",
      " [  24 5311]]\n",
      "0.9956347438752784\n"
     ]
    },
    {
     "name": "stderr",
     "output_type": "stream",
     "text": [
      "C:\\Users\\Shams\\anaconda3\\lib\\site-packages\\sklearn\\linear_model\\_logistic.py:444: ConvergenceWarning: lbfgs failed to converge (status=1):\n",
      "STOP: TOTAL NO. of ITERATIONS REACHED LIMIT.\n",
      "\n",
      "Increase the number of iterations (max_iter) or scale the data as shown in:\n",
      "    https://scikit-learn.org/stable/modules/preprocessing.html\n",
      "Please also refer to the documentation for alternative solver options:\n",
      "    https://scikit-learn.org/stable/modules/linear_model.html#logistic-regression\n",
      "  n_iter_i = _check_optimize_result(\n"
     ]
    }
   ],
   "source": [
    "lr_classifier  = lr()\n",
    "lr_classifier.fit(count_train,y_train)\n",
    "y_pred = lr_classifier.predict(count_test)\n",
    "print(confusion_matrix(y_test,y_pred))\n",
    "print(accuracy_score(y_test,y_pred))"
   ]
  },
  {
   "cell_type": "code",
   "execution_count": null,
   "metadata": {},
   "outputs": [],
   "source": []
  }
 ],
 "metadata": {
  "kernelspec": {
   "display_name": "Python 3 (ipykernel)",
   "language": "python",
   "name": "python3"
  },
  "language_info": {
   "codemirror_mode": {
    "name": "ipython",
    "version": 3
   },
   "file_extension": ".py",
   "mimetype": "text/x-python",
   "name": "python",
   "nbconvert_exporter": "python",
   "pygments_lexer": "ipython3",
   "version": "3.9.7"
  }
 },
 "nbformat": 4,
 "nbformat_minor": 4
}
